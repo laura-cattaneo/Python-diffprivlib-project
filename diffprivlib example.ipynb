{
 "cells": [
  {
   "cell_type": "code",
   "execution_count": 1,
   "metadata": {},
   "outputs": [],
   "source": [
    "import pandas as pd\n",
    "import numpy as np\n",
    "import mysql.connector as sql\n",
    "import diffprivlib\n",
    "import diffprivlib.tools as tools\n",
    "from diffprivlib.models import GaussianNB\n",
    "import matplotlib.pyplot as plt\n",
    "from sklearn.naive_bayes import GaussianNB as sklearn_GaussianNB\n",
    "from sklearn.model_selection import train_test_split\n",
    "from sklearn.metrics import classification_report, roc_auc_score"
   ]
  },
  {
   "cell_type": "code",
   "execution_count": 2,
   "metadata": {},
   "outputs": [],
   "source": [
    "# set up mysql connector\n",
    "c = sql.connect(host='localhost', database='adventureworks',\n",
    "                              user='root', password='PASSWORD')"
   ]
  },
  {
   "cell_type": "markdown",
   "metadata": {},
   "source": [
    "## Employee Data - Masking personal information using histogram\n",
    "\n",
    "We demonstrate a feature of Diffprivlib that creates a privatized histogram using the `GeometricTruncated` mechanism. We used employee data to demonstrate the idea that for a continuous variable (age in our example), the distribution of the original data is similar to the \"masked\" (noisy) data. In addition, the descriptive statistics including mean and standard deviation are also maintained when noise is added."
   ]
  },
  {
   "cell_type": "code",
   "execution_count": 3,
   "metadata": {},
   "outputs": [
    {
     "data": {
      "text/html": [
       "<div>\n",
       "<style scoped>\n",
       "    .dataframe tbody tr th:only-of-type {\n",
       "        vertical-align: middle;\n",
       "    }\n",
       "\n",
       "    .dataframe tbody tr th {\n",
       "        vertical-align: top;\n",
       "    }\n",
       "\n",
       "    .dataframe thead th {\n",
       "        text-align: right;\n",
       "    }\n",
       "</style>\n",
       "<table border=\"1\" class=\"dataframe\">\n",
       "  <thead>\n",
       "    <tr style=\"text-align: right;\">\n",
       "      <th></th>\n",
       "      <th>FirstName</th>\n",
       "      <th>MiddleName</th>\n",
       "      <th>LastName</th>\n",
       "      <th>Suffix</th>\n",
       "      <th>EmailAddress</th>\n",
       "      <th>Phone</th>\n",
       "      <th>title</th>\n",
       "      <th>BirthDate</th>\n",
       "      <th>MaritalStatus</th>\n",
       "      <th>Gender</th>\n",
       "      <th>HireDate</th>\n",
       "      <th>VacationHours</th>\n",
       "      <th>SickLeaveHours</th>\n",
       "      <th>Now</th>\n",
       "      <th>Age</th>\n",
       "      <th>Tenure</th>\n",
       "    </tr>\n",
       "  </thead>\n",
       "  <tbody>\n",
       "    <tr>\n",
       "      <th>0</th>\n",
       "      <td>Guy</td>\n",
       "      <td>R</td>\n",
       "      <td>Gilbert</td>\n",
       "      <td>None</td>\n",
       "      <td>guy1@adventure-works.com</td>\n",
       "      <td>320-555-0195</td>\n",
       "      <td>Production Technician - WC60</td>\n",
       "      <td>1972-05-15</td>\n",
       "      <td>M</td>\n",
       "      <td>M</td>\n",
       "      <td>1996-07-31</td>\n",
       "      <td>21</td>\n",
       "      <td>30</td>\n",
       "      <td>2020-12-31</td>\n",
       "      <td>48.663014</td>\n",
       "      <td>24.435616</td>\n",
       "    </tr>\n",
       "    <tr>\n",
       "      <th>1</th>\n",
       "      <td>Kevin</td>\n",
       "      <td>F</td>\n",
       "      <td>Brown</td>\n",
       "      <td>None</td>\n",
       "      <td>kevin0@adventure-works.com</td>\n",
       "      <td>150-555-0189</td>\n",
       "      <td>Marketing Assistant</td>\n",
       "      <td>1977-06-03</td>\n",
       "      <td>S</td>\n",
       "      <td>M</td>\n",
       "      <td>1997-02-26</td>\n",
       "      <td>42</td>\n",
       "      <td>41</td>\n",
       "      <td>2020-12-31</td>\n",
       "      <td>43.608219</td>\n",
       "      <td>23.860274</td>\n",
       "    </tr>\n",
       "    <tr>\n",
       "      <th>2</th>\n",
       "      <td>Roberto</td>\n",
       "      <td>None</td>\n",
       "      <td>Tamburello</td>\n",
       "      <td>None</td>\n",
       "      <td>roberto0@adventure-works.com</td>\n",
       "      <td>212-555-0187</td>\n",
       "      <td>Engineering Manager</td>\n",
       "      <td>1964-12-13</td>\n",
       "      <td>M</td>\n",
       "      <td>M</td>\n",
       "      <td>1997-12-12</td>\n",
       "      <td>2</td>\n",
       "      <td>21</td>\n",
       "      <td>2020-12-31</td>\n",
       "      <td>56.087671</td>\n",
       "      <td>23.068493</td>\n",
       "    </tr>\n",
       "  </tbody>\n",
       "</table>\n",
       "</div>"
      ],
      "text/plain": [
       "  FirstName MiddleName    LastName Suffix                  EmailAddress  \\\n",
       "0       Guy          R     Gilbert   None      guy1@adventure-works.com   \n",
       "1     Kevin          F       Brown   None    kevin0@adventure-works.com   \n",
       "2   Roberto       None  Tamburello   None  roberto0@adventure-works.com   \n",
       "\n",
       "          Phone                         title  BirthDate MaritalStatus Gender  \\\n",
       "0  320-555-0195  Production Technician - WC60 1972-05-15             M      M   \n",
       "1  150-555-0189           Marketing Assistant 1977-06-03             S      M   \n",
       "2  212-555-0187           Engineering Manager 1964-12-13             M      M   \n",
       "\n",
       "    HireDate  VacationHours  SickLeaveHours        Now        Age     Tenure  \n",
       "0 1996-07-31             21              30 2020-12-31  48.663014  24.435616  \n",
       "1 1997-02-26             42              41 2020-12-31  43.608219  23.860274  \n",
       "2 1997-12-12              2              21 2020-12-31  56.087671  23.068493  "
      ]
     },
     "execution_count": 3,
     "metadata": {},
     "output_type": "execute_result"
    }
   ],
   "source": [
    "# retrieve employee data from adventureworks database\n",
    "employee = pd.read_sql(\"\"\" SELECT C.FirstName,\n",
    "                                                                   C.MiddleName,\n",
    "                                                                   C.LastName,\n",
    "                                                                   C.Suffix,\n",
    "                                                                   C.EmailAddress,\n",
    "                                                                   C.Phone,\n",
    "                                                                   E.title,\n",
    "                                                                   E.BirthDate,\n",
    "                                                                   E.MaritalStatus,\n",
    "                                                                   E.Gender,\n",
    "                                                                   E.HireDate,\n",
    "                                                                   E.VacationHours,\n",
    "                                                                   E.SickLeaveHours\n",
    "                                                    FROM   employee AS E\n",
    "                                                    JOIN   employeeaddress AS EA\n",
    "                                                    USING  (EmployeeID)\n",
    "                                                    JOIN   address AS A\n",
    "                                                    USING  (AddressID)\n",
    "                                                    JOIN   stateprovince AS SP\n",
    "                                                    USING  (StateProvinceID)\n",
    "                                                    JOIN   countryregion AS CR\n",
    "                                                    USING  (CountryRegionCode)\n",
    "                                                    JOIN   contact AS C\n",
    "                                                    USING  (ContactID)\n",
    "                                                    JOIN   employeepayhistory AS EPH\n",
    "                                                    USING  (EmployeeID)\n",
    "                                                    \"\"\", c)\n",
    "\n",
    "# create age and tenure column \n",
    "employee['Now'] = np.datetime64('2020-12-31')\n",
    "employee['Age'] = (employee['Now'] - employee['BirthDate']).dt.days / 365\n",
    "employee['Tenure'] = (employee['Now'] - employee['HireDate']).dt.days / 365\n",
    "\n",
    "# preview data\n",
    "employee.head(3)"
   ]
  },
  {
   "cell_type": "markdown",
   "metadata": {},
   "source": [
    "### Using regular histogram"
   ]
  },
  {
   "cell_type": "code",
   "execution_count": 4,
   "metadata": {
    "scrolled": false
   },
   "outputs": [
    {
     "name": "stdout",
     "output_type": "stream",
     "text": [
      "mean: 52.29810993584186\n",
      "std: 8.953329604978297\n"
     ]
    },
    {
     "data": {
      "image/png": "[encoded data removed]",
      "text/plain": [
       "<Figure size 504x360 with 1 Axes>"
      ]
     },
     "metadata": {
      "needs_background": "light"
     },
     "output_type": "display_data"
    }
   ],
   "source": [
    "# calculate descriptive statistics\n",
    "age = employee.Age.value_counts().reset_index()[['index', 'Age']]\n",
    "age.rename(columns={'index': 'age', 'Age':'count'}, inplace=True)\n",
    "age.sort_values(by='age', inplace=True)\n",
    "print(\"mean:\", employee.Age.mean())\n",
    "print(\"std:\", employee.Age.std())\n",
    "\n",
    "\n",
    "# plot age distribution\n",
    "original=plt.figure(figsize=(7, 5))\n",
    "plt.hist(age['age'], bins=list(range(39, 82, 3)), align='right', color='#7a0019')\n",
    "plt.title(\"Employee Age Distribution (Original Dataset)\", size=16)\n",
    "plt.xlabel(\"Age\", size=12)\n",
    "plt.ylabel(\"Count\", size=12)\n",
    "plt.xticks(list(range(39, 82, 3)), size=12)\n",
    "plt.yticks(size=12)\n",
    "plt.xlim(38, 83)\n",
    "plt.ylim(0, 60)\n",
    "plt.show()\n",
    "\n",
    "# original.savefig('original.png', transparent=True)"
   ]
  },
  {
   "cell_type": "markdown",
   "metadata": {},
   "source": [
    "### Using diffprivlib's histogram"
   ]
  },
  {
   "cell_type": "code",
   "execution_count": 5,
   "metadata": {},
   "outputs": [
    {
     "name": "stdout",
     "output_type": "stream",
     "text": [
      "mean: 52.43166502245689\n",
      "std: 9.072349433270965\n"
     ]
    },
    {
     "data": {
      "image/png": "[encoded data removed]",
      "text/plain": [
       "<Figure size 504x360 with 1 Axes>"
      ]
     },
     "metadata": {
      "needs_background": "light"
     },
     "output_type": "display_data"
    }
   ],
   "source": [
    "# set random seed and create masked dataset\n",
    "np.random.seed(10)\n",
    "tools_hist = tools.histogram(np.array(employee.Age), range=(39, 82), bins= list(range(39, 82, 3)))\n",
    "\n",
    "\n",
    "# calculate descriptive statistics using diffprivlib\n",
    "print(\"mean:\", tools.mean(np.array(employee.Age), bounds=(39, 82)))\n",
    "print(\"std:\", tools.std(np.array(employee.Age), bounds=(39, 82)))\n",
    "\n",
    "\n",
    "# plot histogram using diffprivlib\n",
    "masked=plt.figure(figsize=(7, 5))\n",
    "plt.hist(tools_hist[1][1:], len(tools_hist[0]), weights=tools_hist[0], align='left', color='#ffb71e')\n",
    "plt.title(\"Employee Age Distribution (Masked Dataset)\", size=16)\n",
    "plt.xlabel(\"Age\", size=12)\n",
    "plt.ylabel(\"Count\", size=12)\n",
    "plt.xticks(list(range(39, 82, 3)), size=12)\n",
    "plt.yticks(size=12)\n",
    "plt.xlim(38, 83)\n",
    "plt.ylim(0, 60)\n",
    "plt.show()\n",
    "\n",
    "# masked.savefig('masked.png', transparent=True)"
   ]
  },
  {
   "cell_type": "markdown",
   "metadata": {},
   "source": [
    "-----------------------------------------"
   ]
  },
  {
   "cell_type": "markdown",
   "metadata": {},
   "source": [
    "## Customer Behaviour Classifier\n",
    "\n",
    "In addition to simple histogram, diffprivlib also provides advanced analytics modeling mechanisms. In this example, we leveraged the customer data in the adventureworks database and tried to identify what kind of customer tends to buy products with a higher unit price (in our example - 2000 dollars) using diffprivlib's GaussianNB() model.\n",
    "\n",
    "As shown in the result below, the two iterations have comparable accuracy measures, indicating the effecitiveness of diffprivlib. However, since the label is changed randomly, the precision recall scores of diffprivlib's GaussianNB model are relatively limited. This indicates that diffprivlib may be more effective in scenarios where false negative or false positive are equally weighted."
   ]
  },
  {
   "cell_type": "code",
   "execution_count": 6,
   "metadata": {},
   "outputs": [
    {
     "data": {
      "text/html": [
       "<div>\n",
       "<style scoped>\n",
       "    .dataframe tbody tr th:only-of-type {\n",
       "        vertical-align: middle;\n",
       "    }\n",
       "\n",
       "    .dataframe tbody tr th {\n",
       "        vertical-align: top;\n",
       "    }\n",
       "\n",
       "    .dataframe thead th {\n",
       "        text-align: right;\n",
       "    }\n",
       "</style>\n",
       "<table border=\"1\" class=\"dataframe\">\n",
       "  <thead>\n",
       "    <tr style=\"text-align: right;\">\n",
       "      <th></th>\n",
       "      <th>total</th>\n",
       "      <th>label</th>\n",
       "      <th>AddressType_Home</th>\n",
       "      <th>AddressType_Shipping</th>\n",
       "      <th>City_Ballard</th>\n",
       "      <th>City_Baltimore</th>\n",
       "      <th>City_Barstow</th>\n",
       "      <th>City_Basingstoke Hants</th>\n",
       "      <th>City_Baytown</th>\n",
       "      <th>City_Beaverton</th>\n",
       "      <th>...</th>\n",
       "      <th>PostalCode_WA1 4SY</th>\n",
       "      <th>PostalCode_WA3</th>\n",
       "      <th>PostalCode_WA3 7BH</th>\n",
       "      <th>PostalCode_Y024 1GF</th>\n",
       "      <th>PostalCode_Y03 4TN</th>\n",
       "      <th>PostalCode_YO15</th>\n",
       "      <th>CardType_ColonialVoice</th>\n",
       "      <th>CardType_Distinguish</th>\n",
       "      <th>CardType_SuperiorCard</th>\n",
       "      <th>CardType_Vista</th>\n",
       "    </tr>\n",
       "  </thead>\n",
       "  <tbody>\n",
       "    <tr>\n",
       "      <th>0</th>\n",
       "      <td>8248.99</td>\n",
       "      <td>1</td>\n",
       "      <td>1</td>\n",
       "      <td>0</td>\n",
       "      <td>0</td>\n",
       "      <td>0</td>\n",
       "      <td>0</td>\n",
       "      <td>0</td>\n",
       "      <td>0</td>\n",
       "      <td>0</td>\n",
       "      <td>...</td>\n",
       "      <td>0</td>\n",
       "      <td>0</td>\n",
       "      <td>0</td>\n",
       "      <td>0</td>\n",
       "      <td>0</td>\n",
       "      <td>0</td>\n",
       "      <td>1</td>\n",
       "      <td>0</td>\n",
       "      <td>0</td>\n",
       "      <td>0</td>\n",
       "    </tr>\n",
       "    <tr>\n",
       "      <th>1</th>\n",
       "      <td>6383.88</td>\n",
       "      <td>1</td>\n",
       "      <td>1</td>\n",
       "      <td>0</td>\n",
       "      <td>0</td>\n",
       "      <td>0</td>\n",
       "      <td>0</td>\n",
       "      <td>0</td>\n",
       "      <td>0</td>\n",
       "      <td>0</td>\n",
       "      <td>...</td>\n",
       "      <td>0</td>\n",
       "      <td>0</td>\n",
       "      <td>0</td>\n",
       "      <td>0</td>\n",
       "      <td>0</td>\n",
       "      <td>0</td>\n",
       "      <td>1</td>\n",
       "      <td>0</td>\n",
       "      <td>0</td>\n",
       "      <td>0</td>\n",
       "    </tr>\n",
       "    <tr>\n",
       "      <th>2</th>\n",
       "      <td>8114.04</td>\n",
       "      <td>1</td>\n",
       "      <td>1</td>\n",
       "      <td>0</td>\n",
       "      <td>0</td>\n",
       "      <td>0</td>\n",
       "      <td>0</td>\n",
       "      <td>0</td>\n",
       "      <td>0</td>\n",
       "      <td>0</td>\n",
       "      <td>...</td>\n",
       "      <td>0</td>\n",
       "      <td>0</td>\n",
       "      <td>0</td>\n",
       "      <td>0</td>\n",
       "      <td>0</td>\n",
       "      <td>0</td>\n",
       "      <td>0</td>\n",
       "      <td>1</td>\n",
       "      <td>0</td>\n",
       "      <td>0</td>\n",
       "    </tr>\n",
       "  </tbody>\n",
       "</table>\n",
       "<p>3 rows × 670 columns</p>\n",
       "</div>"
      ],
      "text/plain": [
       "     total  label  AddressType_Home  AddressType_Shipping  City_Ballard  \\\n",
       "0  8248.99      1                 1                     0             0   \n",
       "1  6383.88      1                 1                     0             0   \n",
       "2  8114.04      1                 1                     0             0   \n",
       "\n",
       "   City_Baltimore  City_Barstow  City_Basingstoke Hants  City_Baytown  \\\n",
       "0               0             0                       0             0   \n",
       "1               0             0                       0             0   \n",
       "2               0             0                       0             0   \n",
       "\n",
       "   City_Beaverton  ...  PostalCode_WA1 4SY  PostalCode_WA3  \\\n",
       "0               0  ...                   0               0   \n",
       "1               0  ...                   0               0   \n",
       "2               0  ...                   0               0   \n",
       "\n",
       "   PostalCode_WA3 7BH  PostalCode_Y024 1GF  PostalCode_Y03 4TN  \\\n",
       "0                   0                    0                   0   \n",
       "1                   0                    0                   0   \n",
       "2                   0                    0                   0   \n",
       "\n",
       "   PostalCode_YO15  CardType_ColonialVoice  CardType_Distinguish  \\\n",
       "0                0                       1                     0   \n",
       "1                0                       1                     0   \n",
       "2                0                       0                     1   \n",
       "\n",
       "   CardType_SuperiorCard  CardType_Vista  \n",
       "0                      0               0  \n",
       "1                      0               0  \n",
       "2                      0               0  \n",
       "\n",
       "[3 rows x 670 columns]"
      ]
     },
     "execution_count": 6,
     "metadata": {},
     "output_type": "execute_result"
    }
   ],
   "source": [
    "# retrieve customer data from adventureworks database\n",
    "customer = pd.read_sql(\"\"\"  SELECT CU.AccountNumber,\n",
    "                                                                   C.Title,\n",
    "                                                                   C.FirstName,\n",
    "                                                                   C.MiddleName,\n",
    "                                                                   C.LastName,\n",
    "                                                                   C.Suffix,\n",
    "                                                                   C.EmailAddress,\n",
    "                                                                   C.Phone,\n",
    "                                                                   AT.Name AS AddressType,\n",
    "                                                                   A.AddressLine1,\n",
    "                                                                   A.AddressLine2,\n",
    "                                                                   A.City,\n",
    "                                                                   SP.Name AS StateProviceName,\n",
    "                                                                   CR.Name AS CountryRegionName,\n",
    "                                                                   A.PostalCode,\n",
    "                                                                   CC.CardType,\n",
    "                                                                   CC.CardNumber,\n",
    "                                                                   CC.ExpMonth,\n",
    "                                                                   CC.ExpYear,\n",
    "                                                                   round(sales.sales_total,2) AS total,\n",
    "                                                                   CASE WHEN CU.CustomerID IN (SELECT DISTINCT CustomerID\n",
    "                                                                                                                                FROM   salesorderdetail AS SD\n",
    "                                                                                                                                JOIN   salesorderheader AS SH\n",
    "                                                                                                                                USING  (SalesOrderID)\n",
    "                                                                                                                                WHERE UnitPrice > 2000) THEN 1\n",
    "                                                                              ELSE 0\n",
    "                                                                   END AS label\n",
    "                                                    FROM   adventureworks.customer AS CU\n",
    "                                                    JOIN   customeraddress AS AD\n",
    "                                                    USING  (CustomerID)\n",
    "                                                    JOIN   address AS A\n",
    "                                                    USING  (AddressID) \n",
    "                                                    JOIN   addresstype AS AT\n",
    "                                                    USING  (AddressTypeID)\n",
    "                                                    JOIN   stateprovince AS SP\n",
    "                                                    USING  (StateProvinceID)\n",
    "                                                    JOIN   countryregion AS CR\n",
    "                                                    USING  (CountryRegionCode)\n",
    "                                                    JOIN   individual AS I\n",
    "                                                    USING  (CustomerID) \n",
    "                                                    JOIN   contactcreditcard AS CCC\n",
    "                                                    USING  (ContactID)\n",
    "                                                    JOIN   creditcard AS CC\n",
    "                                                    USING  (CreditCardID)\n",
    "                                                    JOIN   contact AS C\n",
    "                                                    USING  (ContactID)\n",
    "                                                    LEFT JOIN (SELECT  CustomerID,\n",
    "                                                                                         SUM(LineTotal) AS sales_total\n",
    "                                                                         FROM   salesorderdetail AS SD\n",
    "                                                                         JOIN   salesorderheader AS SH\n",
    "                                                                         USING  (SalesOrderID)\n",
    "                                                                         GROUP BY CustomerID) AS sales\n",
    "                                                    USING  (CustomerID);\n",
    "                                                    \"\"\", c)\n",
    "\n",
    "\n",
    "# change NULL value in SQL to NaN in python\n",
    "customer = customer.fillna(value=np.nan)\n",
    "\n",
    "\n",
    "# feature engineering: select a few meaningful features and make it binary format\n",
    "customer = customer[['AddressType', 'City', 'StateProviceName', 'CountryRegionName',\n",
    "                                           'PostalCode', 'CardType', 'total', 'label']]\n",
    "data = pd.get_dummies(customer)\n",
    "\n",
    "\n",
    "# preview data\n",
    "data.head(3)"
   ]
  },
  {
   "cell_type": "markdown",
   "metadata": {},
   "source": [
    "### Regular Classifier: Using scikit learn's GaussianNB"
   ]
  },
  {
   "cell_type": "code",
   "execution_count": 7,
   "metadata": {},
   "outputs": [
    {
     "name": "stdout",
     "output_type": "stream",
     "text": [
      "AUC: 0.7235919520774508 \n",
      "\n",
      "              precision    recall  f1-score   support\n",
      "\n",
      "           0     0.8686    0.6863    0.7668      3226\n",
      "           1     0.5130    0.7609    0.6128      1401\n",
      "\n",
      "    accuracy                         0.7089      4627\n",
      "   macro avg     0.6908    0.7236    0.6898      4627\n",
      "weighted avg     0.7609    0.7089    0.7201      4627\n",
      "\n"
     ]
    }
   ],
   "source": [
    "# build GaussianNB() model using scikit learn package\n",
    "X_train, X_test, y_train, y_test = train_test_split(data.drop('label', axis=1), data['label'], test_size=0.25, random_state=0)\n",
    "classifier = sklearn_GaussianNB().fit(X_train, y_train)\n",
    "prediction = classifier.predict(X_test)\n",
    "\n",
    "print(\"AUC:\", roc_auc_score(y_test, prediction), '\\n')\n",
    "print (classification_report(y_test, prediction, digits=4))"
   ]
  },
  {
   "cell_type": "markdown",
   "metadata": {},
   "source": [
    "### Using diffprivlib's GaussianNB model"
   ]
  },
  {
   "cell_type": "code",
   "execution_count": 8,
   "metadata": {},
   "outputs": [
    {
     "name": "stderr",
     "output_type": "stream",
     "text": [
      "C:\\Users\\User\\anaconda3\\lib\\site-packages\\diffprivlib\\models\\naive_bayes.py:102: PrivacyLeakWarning: Bounds have not been specified and will be calculated on the data provided. This will result in additional privacy leakage. To ensure differential privacy and no additional privacy leakage, specify bounds for each dimension.\n",
      "  \"privacy leakage, specify bounds for each dimension.\", PrivacyLeakWarning)\n"
     ]
    },
    {
     "name": "stdout",
     "output_type": "stream",
     "text": [
      "AUC: 0.500342616844845 \n",
      "\n",
      "              precision    recall  f1-score   support\n",
      "\n",
      "           0     0.6974    0.9978    0.8210      3226\n",
      "           1     0.3636    0.0029    0.0057      1401\n",
      "\n",
      "    accuracy                         0.6966      4627\n",
      "   macro avg     0.5305    0.5003    0.4133      4627\n",
      "weighted avg     0.5963    0.6966    0.5741      4627\n",
      "\n"
     ]
    }
   ],
   "source": [
    "# set another random seed\n",
    "np.random.seed(19)\n",
    "\n",
    "# build another classifier using diffprivlib's GaussianNB() model\n",
    "clf = GaussianNB()\n",
    "clf.fit(X_train, y_train)\n",
    "prediction = clf.predict(X_test)\n",
    "\n",
    "print(\"AUC:\", roc_auc_score(y_test, prediction), '\\n')\n",
    "print (classification_report(y_test, prediction, digits=4))"
   ]
  },
  {
   "cell_type": "markdown",
   "metadata": {},
   "source": [
    "## Summary\n",
    "\n",
    "The `Mechanisms` submodule provides other \"masking\" algorithms. For example, the histogram uses GeometricTruncated mechanism, but diffprivlib also provides other mechanisms that you could \"mask your data in different ways\". With limited time we will not demonstrate this feature, but we want to mention that there is more than one options available to mask the data."
   ]
  }
 ],
 "metadata": {
  "kernelspec": {
   "display_name": "Python 3",
   "language": "python",
   "name": "python3"
  },
  "language_info": {
   "codemirror_mode": {
    "name": "ipython",
    "version": 3
   },
   "file_extension": ".py",
   "mimetype": "text/x-python",
   "name": "python",
   "nbconvert_exporter": "python",
   "pygments_lexer": "ipython3",
   "version": "3.7.6"
  }
 },
 "nbformat": 4,
 "nbformat_minor": 4
}
